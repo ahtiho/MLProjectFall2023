{
 "cells": [
  {
   "cell_type": "code",
   "execution_count": 1,
   "id": "9d0136d0-aa80-4b32-bcdb-280083873b70",
   "metadata": {
    "tags": []
   },
   "outputs": [],
   "source": [
    "import numpy as np\n",
    "import pandas as pd\n",
    "import seaborn as sns\n",
    "from sklearn.model_selection import train_test_split\n",
    "from sklearn.linear_model import LogisticRegression\n",
    "from sklearn.metrics import accuracy_score\n",
    "import matplotlib.pyplot as plt\n",
    "import zipfile\n",
    "import tensorflow as tf\n",
    "from tensorflow.keras import datasets, layers, models\n",
    "import os"
   ]
  },
  {
   "cell_type": "code",
   "execution_count": 8,
   "id": "dfd7027e-f3f2-4394-91bc-2150fb9530fe",
   "metadata": {
    "tags": []
   },
   "outputs": [
    {
     "name": "stdout",
     "output_type": "stream",
     "text": [
      "'syopa.zip' on purettu onnistuneesti.\n",
      "Alikansio train/benign on olemassa.\n",
      "Alikansio train/malignant on olemassa.\n",
      "Alikansio test/benign on olemassa.\n",
      "Alikansio test/malignant on olemassa.\n",
      "Alikansio val/benign on olemassa.\n",
      "Alikansio val/malignant on olemassa.\n"
     ]
    }
   ],
   "source": [
    "import os\n",
    "# Määritä ZIP-tiedoston nimi ja kohdekansio\n",
    "zip_tiedoston_nimi = 'syopa.zip'  # Korvaa 'nimesi.zip' ZIP-tiedostosi nimellä\n",
    "kohdekansio = '.'  # Tämä tarkoittaa nykyistä kansiota Jupyterissa\n",
    "\n",
    "with zipfile.ZipFile(zip_tiedoston_nimi, 'r') as zip_ref:\n",
    "    zip_ref.extractall(kohdekansio)\n",
    "\n",
    "print(f\"'{zip_tiedoston_nimi}' on purettu onnistuneesti.\")\n",
    "\n",
    "#tarkista tiedostorakenne: Kuten aiemmin, voit tarkistaa, onko tiedostorakenne kuten odotit: python\n",
    "# Tarkista, onko tiedostorakenne oikein\n",
    "for dataset in ['train', 'test', 'val']:\n",
    "    for category in ['benign', 'malignant']:\n",
    "        polku = os.path.join(kohdekansio, 'output', dataset, category)\n",
    "        if os.path.exists(polku):\n",
    "            print(f\"Alikansio {dataset}/{category} on olemassa.\")\n",
    "        else:\n",
    "            print(f\"Alikansiota {dataset}/{category} ei löydy!\")\n"
   ]
  },
  {
   "cell_type": "code",
   "execution_count": 9,
   "id": "140c11dc-9dbe-4ce2-8d98-a952bdb377a2",
   "metadata": {
    "tags": []
   },
   "outputs": [
    {
     "ename": "NameError",
     "evalue": "name 'train_benign_kuvat' is not defined",
     "output_type": "error",
     "traceback": [
      "\u001b[0;31m---------------------------------------------------------------------------\u001b[0m",
      "\u001b[0;31mNameError\u001b[0m                                 Traceback (most recent call last)",
      "Cell \u001b[0;32mIn[9], line 9\u001b[0m\n\u001b[1;32m      6\u001b[0m         esikasitellyt\u001b[38;5;241m.\u001b[39mappend(kuva_array)\n\u001b[1;32m      7\u001b[0m     \u001b[38;5;28;01mreturn\u001b[39;00m esikasitellyt\n\u001b[0;32m----> 9\u001b[0m train_benign_kuvat_esikasitelty \u001b[38;5;241m=\u001b[39m esikasittele_kuvat(\u001b[43mtrain_benign_kuvat\u001b[49m)\n",
      "\u001b[0;31mNameError\u001b[0m: name 'train_benign_kuvat' is not defined"
     ]
    }
   ],
   "source": [
    "\n",
    "def esikasittele_kuvat(kuvat, koko=(150, 150)):\n",
    "    esikasitellyt = []\n",
    "    for kuva in kuvat:\n",
    "        kuva = kuva.resize(koko)\n",
    "        kuva_array = tf.keras.preprocessing.image.img_to_array(kuva)\n",
    "        esikasitellyt.append(kuva_array)\n",
    "    return esikasitellyt\n",
    "\n",
    "train_benign_kuvat_esikasitelty = esikasittele_kuvat(train_benign_kuvat)"
   ]
  }
 ],
 "metadata": {
  "kernelspec": {
   "display_name": "Python 3",
   "language": "python",
   "name": "python3"
  },
  "language_info": {
   "codemirror_mode": {
    "name": "ipython",
    "version": 3
   },
   "file_extension": ".py",
   "mimetype": "text/x-python",
   "name": "python",
   "nbconvert_exporter": "python",
   "pygments_lexer": "ipython3",
   "version": "3.10.8"
  }
 },
 "nbformat": 4,
 "nbformat_minor": 5
}
