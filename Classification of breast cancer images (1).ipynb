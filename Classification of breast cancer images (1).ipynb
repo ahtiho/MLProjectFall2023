{
 "cells": [
  {
   "cell_type": "code",
   "execution_count": 5,
   "id": "9d0136d0-aa80-4b32-bcdb-280083873b70",
   "metadata": {
    "tags": []
   },
   "outputs": [],
   "source": [
    "import numpy as np\n",
    "import pandas as pd\n",
    "import seaborn as sns\n",
    "from sklearn.model_selection import train_test_split\n",
    "from sklearn.linear_model import LogisticRegression\n",
    "from sklearn.metrics import accuracy_score\n",
    "import matplotlib.pyplot as plt\n",
    "import zipfile\n",
    "import tensorflow as tf\n",
    "from tensorflow.keras import datasets, layers, models\n",
    "import os\n",
    "from PIL import Image\n",
    "from tensorflow.keras.utils import to_categorical\n",
    "from tensorflow.keras.preprocessing.image import ImageDataGenerator\n",
    "from tensorflow.keras.optimizers import Adam\n"
   ]
  },
  {
   "cell_type": "code",
   "execution_count": 6,
   "id": "ef21d78f",
   "metadata": {
    "tags": []
   },
   "outputs": [
    {
     "name": "stderr",
     "output_type": "stream",
     "text": [
      "/tmp/ipykernel_448/1857767185.py:12: DeprecationWarning: BILINEAR is deprecated and will be removed in Pillow 10 (2023-07-01). Use Resampling.BILINEAR instead.\n",
      "  resized_image = kuva.resize(new_size, Image.BILINEAR)\n"
     ]
    }
   ],
   "source": [
    "\n",
    "# Here we load the images and do some preprocessing for them. We do the following preprocessing steps:\n",
    "# - transform the into arrays\n",
    "# - resize them to a smaller resolution\n",
    "# - convert the image to B&W\n",
    "# - Normalize the arrays\n",
    "\n",
    "def transform_image(kuva):\n",
    "\n",
    "    kuva = Image.open(kuva)\n",
    "    new_size = (256, 256)\n",
    "\n",
    "    resized_image = kuva.resize(new_size, Image.BILINEAR)\n",
    "\n",
    "    kuva_array = tf.keras.preprocessing.image.img_to_array(resized_image)\n",
    "    normalized_array = (kuva_array - kuva_array.min()) / (kuva_array.max() - kuva_array.min())\n",
    "    type(normalized_array)\n",
    "    return normalized_array\n",
    "\n",
    "\n",
    "# Iterating through the folders to apply preprocessing for all images in the dataset \n",
    "\n",
    "def go_through_folder(folder):\n",
    "    array_list =[]\n",
    "    for filename in os.listdir(folder):\n",
    "        file_path = os.path.join(folder, filename)\n",
    "        array = transform_image(file_path)\n",
    "        array_list.append(array)\n",
    "        \n",
    "    return array_list\n",
    "        \n",
    "#test_image = transform_image(\"output/train/benign/SOB_B_A-14-22549AB-400-001.png\")   \n",
    "benign_train = np.array(go_through_folder(\"output/train/benign\"))\n",
    "malignant_train = np.array(go_through_folder(\"output/train/malignant\"))\n",
    "benign_test = np.array(go_through_folder(\"output/test/benign\"))\n",
    "malignant_test = np.array(go_through_folder(\"output/test/malignant\"))\n",
    "benign_val = np.array(go_through_folder(\"output/val/benign\"))\n",
    "malignant_val = np.array(go_through_folder(\"output/val/malignant\"))\n"
   ]
  },
  {
   "cell_type": "code",
   "execution_count": 8,
   "id": "0e0b25d9",
   "metadata": {
    "tags": []
   },
   "outputs": [
    {
     "name": "stdout",
     "output_type": "stream",
     "text": [
      "382 382\n"
     ]
    }
   ],
   "source": [
    "# Creating the Y labels for their respective images, 1 being a malignant tumor, 0 being a benign tumor\n",
    "# Also preparing them to their respective train and test sets\n",
    "benign_train_label = np.zeros(len(benign_train))\n",
    "benign_test_label = np.zeros(len(benign_test))\n",
    "\n",
    "malignant_train_label = np.ones(len(malignant_train))\n",
    "malignant_test_label = np.ones(len(malignant_test))\n",
    "\n",
    "malignant_val_label = np.ones(len(malignant_val))\n",
    "benign_val_label = np.zeros(len(benign_val))\n",
    "\n",
    "min_samples = min(len(benign_train), len(malignant_train))\n",
    "\n",
    "if len(benign_train) > len(malignant_train):\n",
    "    indices = np.random.choice(len(benign_train), min_samples, replace=False)  # Valitaan satunnaisesti indeksejä\n",
    "    benign_train = benign_train[indices]\n",
    "    benign_train_label = benign_train_label[indices]\n",
    "else:\n",
    "    indices = np.random.choice(len(malignant_train), min_samples, replace=False)  # Valitaan satunnaisesti indeksejä\n",
    "    malignant_train = malignant_train[indices]\n",
    "    malignant_train_label = malignant_train_label[indices]\n",
    "    \n",
    "\n",
    "\n",
    "    \n",
    "print(len(benign_train), len(malignant_train))\n",
    "\n",
    "X_train = np.concatenate((benign_train, malignant_train), axis = 0)\n",
    "Y_train = np.concatenate((benign_train_label, malignant_train_label), axis = 0)\n",
    "\n",
    "\n",
    "X_test = np.concatenate((benign_test, malignant_test), axis = 0)\n",
    "Y_test = np.concatenate((benign_test_label, malignant_test_label), axis = 0)\n",
    "\n",
    "X_val = np.concatenate((benign_val, malignant_val), axis = 0)\n",
    "Y_val = np.concatenate((benign_val_label, malignant_val_label), axis = 0)\n",
    "\n",
    "\n",
    "s = np.arange(X_train.shape[0])\n",
    "np.random.shuffle(s)\n",
    "X_train = X_train[s]\n",
    "Y_train = Y_train[s]\n",
    "\n",
    "s = np.arange(X_test.shape[0])\n",
    "np.random.shuffle(s)\n",
    "X_test = X_test[s]\n",
    "Y_test = Y_test[s]\n",
    "\n",
    "s = np.arange(X_val.shape[0])\n",
    "np.random.shuffle(s)\n",
    "X_val = X_val[s]\n",
    "Y_val = Y_val[s]\n",
    "\n"
   ]
  },
  {
   "cell_type": "code",
   "execution_count": 9,
   "id": "f9237b87",
   "metadata": {
    "tags": []
   },
   "outputs": [],
   "source": [
    "# Generating new data based on the original images (rotating, shifting, shearing, zooming images, etc) \n",
    "\n",
    "\n",
    "datagen = ImageDataGenerator(\n",
    "    rotation_range=15,            \n",
    "    width_shift_range=0.2,      \n",
    "    height_shift_range=0.2,      \n",
    "    shear_range=0.2,             \n",
    "    zoom_range=0.2,             \n",
    "    horizontal_flip=True,        \n",
    "    vertical_flip=False,         \n",
    "    fill_mode='nearest'         \n",
    ")\n",
    "\n",
    "datagen.fit(X_train)\n",
    "\n"
   ]
  },
  {
   "cell_type": "code",
   "execution_count": 10,
   "id": "5d952084",
   "metadata": {
    "tags": []
   },
   "outputs": [
    {
     "name": "stdout",
     "output_type": "stream",
     "text": [
      "Model: \"sequential\"\n",
      "_________________________________________________________________\n",
      " Layer (type)                Output Shape              Param #   \n",
      "=================================================================\n",
      " conv2d (Conv2D)             (None, 254, 254, 64)      1792      \n",
      "                                                                 \n",
      " max_pooling2d (MaxPooling2D  (None, 127, 127, 64)     0         \n",
      " )                                                               \n",
      "                                                                 \n",
      " conv2d_1 (Conv2D)           (None, 125, 125, 128)     73856     \n",
      "                                                                 \n",
      " max_pooling2d_1 (MaxPooling  (None, 62, 62, 128)      0         \n",
      " 2D)                                                             \n",
      "                                                                 \n",
      " conv2d_2 (Conv2D)           (None, 60, 60, 64)        73792     \n",
      "                                                                 \n",
      " max_pooling2d_2 (MaxPooling  (None, 30, 30, 64)       0         \n",
      " 2D)                                                             \n",
      "                                                                 \n",
      " dropout (Dropout)           (None, 30, 30, 64)        0         \n",
      "                                                                 \n",
      " flatten (Flatten)           (None, 57600)             0         \n",
      "                                                                 \n",
      " dense (Dense)               (None, 256)               14745856  \n",
      "                                                                 \n",
      " dense_1 (Dense)             (None, 1)                 257       \n",
      "                                                                 \n",
      "=================================================================\n",
      "Total params: 14,895,553\n",
      "Trainable params: 14,895,553\n"
     ]
    },
    {
     "name": "stderr",
     "output_type": "stream",
     "text": [
      "2023-09-22 17:56:13.494809: I tensorflow/core/platform/cpu_feature_guard.cc:151] This TensorFlow binary is optimized with oneAPI Deep Neural Network Library (oneDNN) to use the following CPU instructions in performance-critical operations:  SSE4.1 SSE4.2 AVX AVX2 FMA\n",
      "To enable them in other operations, rebuild TensorFlow with the appropriate compiler flags.\n"
     ]
    },
    {
     "name": "stdout",
     "output_type": "stream",
     "text": [
      "Non-trainable params: 0\n",
      "_________________________________________________________________\n"
     ]
    }
   ],
   "source": [
    "# Creating the neural network\n",
    "\n",
    "model = models.Sequential()\n",
    "model.add(layers.Conv2D(64, (3, 3), activation='relu', input_shape=(256, 256, 3)))\n",
    "model.add(layers.MaxPooling2D())\n",
    "model.add(layers.Conv2D(128, (3, 3), activation='relu', input_shape=(256, 256, 3)))\n",
    "model.add(layers.MaxPooling2D())\n",
    "model.add(layers.Conv2D(64, (3, 3), activation='relu', input_shape=(256, 256, 3)))\n",
    "model.add(layers.MaxPooling2D())\n",
    "model.add(layers.Dropout(0.5))\n",
    "model.add(layers.Flatten())\n",
    "model.add(layers.Dense(256, activation='relu'))\n",
    "model.add(layers.Dense(1, activation = 'sigmoid'))\n",
    "model.summary()"
   ]
  },
  {
   "cell_type": "code",
   "execution_count": null,
   "id": "274e3b31",
   "metadata": {
    "tags": []
   },
   "outputs": [
    {
     "name": "stdout",
     "output_type": "stream",
     "text": [
      "(764, 256, 256, 3)\n",
      "Epoch 1/7\n",
      " 3/24 [==>...........................] - ETA: 3:08 - loss: 0.7005 - accuracy: 0.5417"
     ]
    }
   ],
   "source": [
    "print(X_train.shape)\n",
    "optimizer = Adam(learning_rate = 0.00001)\n",
    "model.compile(optimizer=optimizer,\n",
    "              loss=\"binary_crossentropy\",\n",
    "              metrics=['accuracy'])\n",
    "\n",
    "history = model.fit(datagen.flow(X_train, Y_train), batch_size = 16, \n",
    "                    epochs=7,\n",
    "                    validation_data=(X_val, Y_val))\n"
   ]
  },
  {
   "cell_type": "code",
   "execution_count": null,
   "id": "33107015",
   "metadata": {
    "tags": []
   },
   "outputs": [],
   "source": [
    "prediction = model.predict(X_test)\n",
    "\n",
    "real_prediction = []\n",
    "for i in prediction:\n",
    "    if i >= 0.5:\n",
    "        i = 1\n",
    "    else:\n",
    "        i = 0\n",
    "        \n",
    "    real_prediction.append(i)\n",
    "\n",
    "accuracy = accuracy_score(Y_test, real_prediction)\n",
    "accuracy"
   ]
  },
  {
   "cell_type": "code",
   "execution_count": 307,
   "id": "89c60ab9",
   "metadata": {},
   "outputs": [
    {
     "name": "stdout",
     "output_type": "stream",
     "text": [
      "8/8 - 1s - loss: 0.4538 - accuracy: 0.8164 - 1s/epoch - 138ms/step\n"
     ]
    },
    {
     "data": {
      "image/png": "[encoded data removed]",
      "text/plain": [
       "<Figure size 640x480 with 1 Axes>"
      ]
     },
     "metadata": {},
     "output_type": "display_data"
    }
   ],
   "source": [
    "plt.plot(history.history['accuracy'], label='accuracy')\n",
    "plt.plot(history.history['val_accuracy'], label = 'val_accuracy')\n",
    "plt.xlabel('Epoch')\n",
    "plt.ylabel('Accuracy')\n",
    "plt.ylim([0.5, 1])\n",
    "plt.legend(loc='lower right')\n",
    "\n",
    "test_loss, test_acc = model.evaluate(X_test,  Y_test, verbose=2)"
   ]
  },
  {
   "cell_type": "code",
   "execution_count": null,
   "id": "11a90fdf",
   "metadata": {
    "tags": []
   },
   "outputs": [],
   "source": [
    "plt.plot(history.history['loss'], label='loss')\n",
    "plt.plot(history.history['val_loss'], label = 'val_loss')\n",
    "plt.ylim([0, 0.8\n",
    "         ])\n",
    "plt.xlabel('Epoch')\n",
    "plt.ylabel('loss')\n",
    "plt.legend(loc='lower right')\n",
    "\n"
   ]
  },
  {
   "cell_type": "code",
   "execution_count": null,
   "id": "80ef976f",
   "metadata": {},
   "outputs": [],
   "source": []
  }
 ],
 "metadata": {
  "kernelspec": {
   "display_name": "Python 3",
   "language": "python",
   "name": "python3"
  },
  "language_info": {
   "codemirror_mode": {
    "name": "ipython",
    "version": 3
   },
   "file_extension": ".py",
   "mimetype": "text/x-python",
   "name": "python",
   "nbconvert_exporter": "python",
   "pygments_lexer": "ipython3",
   "version": "3.10.8"
  }
 },
 "nbformat": 4,
 "nbformat_minor": 5
}
